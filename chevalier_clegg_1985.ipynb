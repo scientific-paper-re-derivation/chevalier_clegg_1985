{
 "cells": [
  {
   "cell_type": "markdown",
   "metadata": {
    "deletable": true,
    "editable": true
   },
   "source": [
    "[ADS entry](http://adsabs.harvard.edu/abs/1985Natur.317...44C)"
   ]
  },
  {
   "cell_type": "code",
   "execution_count": 48,
   "metadata": {
    "collapsed": true,
    "deletable": true,
    "editable": true
   },
   "outputs": [],
   "source": [
    "import sympy\n",
    "sympy.init_printing()"
   ]
  },
  {
   "cell_type": "markdown",
   "metadata": {
    "deletable": true,
    "editable": true
   },
   "source": [
    "Equation 1"
   ]
  },
  {
   "cell_type": "code",
   "execution_count": 49,
   "metadata": {
    "collapsed": false,
    "deletable": true,
    "editable": true
   },
   "outputs": [
    {
     "data": {
      "image/png": "[encoded data removed]",
      "text/latex": [
       "$$\\frac{1}{r^{2}} \\frac{\\partial}{\\partial r}\\left(r^{2} \\rho u\\right) = q$$"
      ],
      "text/plain": [
       "∂ ⎛ 2    ⎞    \n",
       "──⎝r ⋅ρ⋅u⎠    \n",
       "∂r            \n",
       "────────── = q\n",
       "     2        \n",
       "    r         "
      ]
     },
     "execution_count": 49,
     "metadata": {},
     "output_type": "execute_result"
    }
   ],
   "source": [
    "rho = sympy.Symbol('rho') # Density\n",
    "u = sympy.Symbol('u') # Velocity\n",
    "r = sympy.Symbol('r', positive=True) # Radius\n",
    "q = sympy.Symbol('q') # Mass injection rate\n",
    "eqn_1 = sympy.Eq(sympy.Derivative(rho*u*r**2,r)/r**2,q)\n",
    "eqn_1"
   ]
  },
  {
   "cell_type": "markdown",
   "metadata": {
    "deletable": true,
    "editable": true
   },
   "source": [
    "Equation 2"
   ]
  },
  {
   "cell_type": "code",
   "execution_count": 50,
   "metadata": {
    "collapsed": false,
    "deletable": true,
    "editable": true
   },
   "outputs": [
    {
     "data": {
      "image/png": "[encoded data removed]",
      "text/latex": [
       "$$\\rho u \\frac{d}{d r} u = - q u - \\frac{d}{d r} p$$"
      ],
      "text/plain": [
       "    d              d    \n",
       "ρ⋅u⋅──(u) = -q⋅u - ──(p)\n",
       "    dr             dr   "
      ]
     },
     "execution_count": 50,
     "metadata": {},
     "output_type": "execute_result"
    }
   ],
   "source": [
    "p = sympy.Symbol('p') # Pressure\n",
    "eqn_2 = sympy.Eq(rho*u*sympy.Derivative(u,r),-sympy.Derivative(p,r)-q*u)\n",
    "eqn_2"
   ]
  },
  {
   "cell_type": "markdown",
   "metadata": {
    "deletable": true,
    "editable": true
   },
   "source": [
    "Equation 3"
   ]
  },
  {
   "cell_type": "code",
   "execution_count": 51,
   "metadata": {
    "collapsed": false,
    "deletable": true,
    "editable": true
   },
   "outputs": [
    {
     "data": {
      "image/png": "[encoded data removed]",
      "text/latex": [
       "$$\\frac{1}{r^{2}} \\frac{\\partial}{\\partial r}\\left(r^{2} \\rho u \\left(\\frac{\\gamma p}{\\rho \\left(\\gamma + 1\\right)} + \\frac{u^{2}}{2}\\right)\\right) = Q$$"
      ],
      "text/plain": [
       "  ⎛       ⎛             2⎞⎞    \n",
       "∂ ⎜ 2     ⎜   γ⋅p      u ⎟⎟    \n",
       "──⎜r ⋅ρ⋅u⋅⎜───────── + ──⎟⎟    \n",
       "∂r⎝       ⎝ρ⋅(γ + 1)   2 ⎠⎠    \n",
       "─────────────────────────── = Q\n",
       "              2                \n",
       "             r                 "
      ]
     },
     "execution_count": 51,
     "metadata": {},
     "output_type": "execute_result"
    }
   ],
   "source": [
    "Q = sympy.Symbol('Q', positive=True) # Energy injection rate\n",
    "gamma = sympy.Symbol('gamma', positive=True) # Adiabatic index\n",
    "eqn_3 = sympy.Eq(sympy.Derivative(rho*u*r**2*(u**2/2+gamma*p/rho/(gamma+1)),r)/r**2,Q)\n",
    "eqn_3"
   ]
  },
  {
   "cell_type": "markdown",
   "metadata": {
    "deletable": true,
    "editable": true
   },
   "source": [
    "Mass conservation can be integrated"
   ]
  },
  {
   "cell_type": "code",
   "execution_count": 52,
   "metadata": {
    "collapsed": false,
    "deletable": true,
    "editable": true
   },
   "outputs": [
    {
     "data": {
      "image/png": "[encoded data removed]",
      "text/latex": [
       "$$\\rho u = \\frac{q r}{3}$$"
      ],
      "text/plain": [
       "      q⋅r\n",
       "ρ⋅u = ───\n",
       "       3 "
      ]
     },
     "execution_count": 52,
     "metadata": {},
     "output_type": "execute_result"
    }
   ],
   "source": [
    "_ = q*r**2\n",
    "_ = sympy.integrate(_,r)\n",
    "int_mass_cons = sympy.Eq(rho*u,_/r**2)\n",
    "int_mass_cons"
   ]
  },
  {
   "cell_type": "markdown",
   "metadata": {
    "deletable": true,
    "editable": true
   },
   "source": [
    "Energy conservation can be integrated"
   ]
  },
  {
   "cell_type": "code",
   "execution_count": 67,
   "metadata": {
    "collapsed": false,
    "deletable": true,
    "editable": true
   },
   "outputs": [
    {
     "data": {
      "image/png": "[encoded data removed]",
      "text/latex": [
       "$$\\frac{\\gamma p}{\\rho \\left(\\gamma - 1\\right)} + \\frac{u^{2}}{2} = \\frac{Q}{q}$$"
      ],
      "text/plain": [
       "             2    \n",
       "   γ⋅p      u    Q\n",
       "───────── + ── = ─\n",
       "ρ⋅(γ - 1)   2    q"
      ]
     },
     "execution_count": 67,
     "metadata": {},
     "output_type": "execute_result"
    }
   ],
   "source": [
    "_ = Q*r**2\n",
    "_ = sympy.integrate(_,r)\n",
    "_ = _/r**2\n",
    "_ = _/ int_mass_cons.rhs\n",
    "int_energy_cons = sympy.Eq(gamma*p/(gamma-1)/rho+u**2/2,_)\n",
    "int_energy_cons"
   ]
  },
  {
   "cell_type": "markdown",
   "metadata": {},
   "source": [
    "Solution without injection"
   ]
  },
  {
   "cell_type": "code",
   "execution_count": 176,
   "metadata": {
    "collapsed": false
   },
   "outputs": [
    {
     "data": {
      "image/png": "[encoded data removed]",
      "text/latex": [
       "$$S = \\frac{1}{\\gamma} \\dot{M}^{- \\gamma + 1} \\left(m r^{2}\\right)^{\\gamma - 1} \\left(\\frac{2 B \\left(\\gamma - 1\\right)}{\\gamma m^{2} - m^{2} + 2}\\right)^{\\frac{\\gamma}{2} + \\frac{1}{2}}$$"
      ],
      "text/plain": [
       "                                             γ   1\n",
       "                                             ─ + ─\n",
       "                        γ - 1                2   2\n",
       "           -γ + 1 ⎛   2⎞      ⎛ 2⋅B⋅(γ - 1) ⎞     \n",
       "    \\dot{M}      ⋅⎝m⋅r ⎠     ⋅⎜─────────────⎟     \n",
       "                              ⎜   2    2    ⎟     \n",
       "                              ⎝γ⋅m  - m  + 2⎠     \n",
       "S = ──────────────────────────────────────────────\n",
       "                          γ                       "
      ]
     },
     "execution_count": 176,
     "metadata": {},
     "output_type": "execute_result"
    }
   ],
   "source": [
    "m = sympy.Symbol('m', positive=True) # Mach number\n",
    "c = sympy.Symbol('c') # Speed of sound\n",
    "dot_M = sympy.Symbol(r'\\dot{M}', positive=True)\n",
    "B = sympy.Symbol('B',positive=True)\n",
    "S = sympy.Symbol('S', positive=True)\n",
    "xi = sympy.Symbol('xi', positive=True)\n",
    "_ = [sympy.Eq(rho*u*r**2,dot_M),\n",
    "    sympy.Eq(u**2/2+gamma*p/rho/(gamma-1),B),\n",
    "    sympy.Eq(p/rho**gamma,S)]\n",
    "_ = [itm.subs(u,m*c) for itm in _]\n",
    "_ = [itm.subs(p,rho*c**2/gamma) for itm in _]\n",
    "_ = [itm.subs(sympy.solve(_[0],rho,dict=True)[0]) for itm in _]\n",
    "_ = [itm.subs(sympy.solve(_[1],c,dict=True)[1]) for itm in _]\n",
    "_ = _[2]\n",
    "_ = sympy.expand_power_base(_,force=True)\n",
    "_ = _.simplify()\n",
    "_ = _.subs(m**2,xi**2/(gamma-1)).simplify().subs(xi,m*sympy.sqrt(gamma-1)).simplify()\n",
    "_ = _.subs(gamma,xi+1).simplify().subs(xi,gamma-1).simplify()\n",
    "outside_solution = _\n",
    "outside_solution"
   ]
  },
  {
   "cell_type": "code",
   "execution_count": 155,
   "metadata": {
    "collapsed": false,
    "deletable": true,
    "editable": true
   },
   "outputs": [
    {
     "data": {
      "image/png": "[encoded data removed]",
      "text/latex": [
       "$$\\frac{\\left(\\gamma - 1 + \\frac{2}{m^{2}}\\right)^{\\frac{\\gamma + 1}{10 \\gamma + 2}}}{2^{\\frac{\\gamma + 1}{10 \\gamma + 2}} \\left(3 \\gamma + \\frac{1}{m^{2}}\\right)^{\\frac{3 \\gamma + 1}{5 \\gamma + 1}}}$$"
      ],
      "text/plain": [
       "                     -(3⋅γ + 1)               γ + 1  \n",
       " -(γ + 1)            ───────────             ────────\n",
       " ─────────             5⋅γ + 1               10⋅γ + 2\n",
       "  10⋅γ + 2 ⎛      1 ⎞            ⎛        2 ⎞        \n",
       "2         ⋅⎜3⋅γ + ──⎟           ⋅⎜γ - 1 + ──⎟        \n",
       "           ⎜       2⎟            ⎜         2⎟        \n",
       "           ⎝      m ⎠            ⎝        m ⎠        "
      ]
     },
     "execution_count": 155,
     "metadata": {},
     "output_type": "execute_result"
    }
   ],
   "source": [
    "z = sympy.Symbol('z') # Speed of sound squared\n",
    "n = sympy.Symbol('n', positive=True) # 1/m**2\n",
    "xi = sympy.Symbol('xi', positive=True) # Auxiliary variable\n",
    "_ = [int_mass_cons, int_energy_cons, eqn_2]\n",
    "_ = [itm.subs(p,rho*z/gamma) for itm in _]\n",
    "_ = [itm.subs(u,m*sympy.sqrt(z)) for itm in _]\n",
    "_ = [itm.subs(sympy.solve(_[1],z,dict=True)[0]) for itm in _]\n",
    "_ = [itm.subs(sympy.solve(_[0],rho,dict=True)[0]) for itm in _]\n",
    "_ = _[2]\n",
    "_ = _.subs(m,1/sympy.sqrt(n(r)))\n",
    "_ = _.doit()\n",
    "_ = sympy.solve(_,n(r).diff(r))[0]\n",
    "_ = _.subs(n(r),n)\n",
    "_ = 1/_/r\n",
    "_ = sympy.integrate(_,n)\n",
    "_ = sympy.logcombine(_,force=True)\n",
    "_ = sympy.exp(_)\n",
    "_ = _.factor(n)\n",
    "_ = _.subs(n,1/m**2)\n",
    "inside_solution = _\n",
    "inside_solution"
   ]
  },
  {
   "cell_type": "markdown",
   "metadata": {},
   "source": [
    "Both cases ($r<R$ and $r>R$) have singularities at $m = 1$. Hence, the flow in each region is either supersonic or subsonic, and therefore the sonic point must be at $r = R$."
   ]
  },
  {
   "cell_type": "markdown",
   "metadata": {},
   "source": [
    "equation 4"
   ]
  },
  {
   "cell_type": "code",
   "execution_count": 189,
   "metadata": {
    "collapsed": false
   },
   "outputs": [
    {
     "data": {
      "image/png": "[encoded data removed]",
      "text/latex": [
       "$$\\frac{r}{R} = \\left(\\frac{\\gamma - 1 + \\frac{2}{m^{2}}}{\\gamma + 1}\\right)^{\\frac{\\gamma + 1}{10 \\gamma + 2}} \\left(\\frac{3 \\gamma + 1}{3 \\gamma + \\frac{1}{m^{2}}}\\right)^{\\frac{3 \\gamma + 1}{5 \\gamma + 1}}$$"
      ],
      "text/plain": [
       "                 γ + 1                    \n",
       "                ────────                  \n",
       "                10⋅γ + 2                  \n",
       "    ⎛        2 ⎞                   3⋅γ + 1\n",
       "    ⎜γ - 1 + ──⎟                   ───────\n",
       "    ⎜         2⎟                   5⋅γ + 1\n",
       "r   ⎜        m ⎟         ⎛3⋅γ + 1 ⎞       \n",
       "─ = ⎜──────────⎟        ⋅⎜────────⎟       \n",
       "R   ⎝  γ + 1   ⎠         ⎜      1 ⎟       \n",
       "                         ⎜3⋅γ + ──⎟       \n",
       "                         ⎜       2⎟       \n",
       "                         ⎝      m ⎠       "
      ]
     },
     "execution_count": 189,
     "metadata": {},
     "output_type": "execute_result"
    }
   ],
   "source": [
    "R = sympy.Symbol('R') # Radius of the wind emitting region\n",
    "_ = inside_solution/inside_solution.subs(m,1)\n",
    "eqn_4 = sympy.Eq(r/R,sympy.powsimp(_))\n",
    "eqn_4"
   ]
  },
  {
   "cell_type": "markdown",
   "metadata": {},
   "source": [
    "Equation 5"
   ]
  },
  {
   "cell_type": "code",
   "execution_count": 183,
   "metadata": {
    "collapsed": false
   },
   "outputs": [
    {
     "data": {
      "image/png": "[encoded data removed]",
      "text/latex": [
       "$$\\frac{r}{R} = \\frac{1}{\\sqrt{m}} \\left(\\gamma + 1\\right)^{- \\frac{1}{4} - \\frac{1}{2 \\gamma - 2}} \\left(m^{2} \\left(\\gamma - 1\\right) + 2\\right)^{\\frac{1}{4} + \\frac{1}{2 \\gamma - 2}}$$"
      ],
      "text/plain": [
       "                                           1       1    \n",
       "             1       1                     ─ + ─────────\n",
       "           - ─ - ─────────                 4   2⋅(γ - 1)\n",
       "             4   2⋅(γ - 1) ⎛ 2            ⎞             \n",
       "r   (γ + 1)               ⋅⎝m ⋅(γ - 1) + 2⎠             \n",
       "─ = ────────────────────────────────────────────────────\n",
       "R                            √m                         "
      ]
     },
     "execution_count": 183,
     "metadata": {},
     "output_type": "execute_result"
    }
   ],
   "source": [
    "_ = sympy.solve(outside_solution,r)[0]\n",
    "_ = _/(_.subs(m,1))\n",
    "_ = sympy.expand_power_base(_,force=True)\n",
    "_ = _.simplify()\n",
    "_ = _.subs(gamma,xi+1).simplify().subs(xi,gamma-1)\n",
    "eqn_5 = sympy.Eq(r/R,_)\n",
    "eqn_5"
   ]
  },
  {
   "cell_type": "code",
   "execution_count": null,
   "metadata": {
    "collapsed": true
   },
   "outputs": [],
   "source": []
  }
 ],
 "metadata": {
  "kernelspec": {
   "display_name": "Python 3",
   "language": "python",
   "name": "python3"
  },
  "language_info": {
   "codemirror_mode": {
    "name": "ipython",
    "version": 3
   },
   "file_extension": ".py",
   "mimetype": "text/x-python",
   "name": "python",
   "nbconvert_exporter": "python",
   "pygments_lexer": "ipython3",
   "version": "3.6.1"
  }
 },
 "nbformat": 4,
 "nbformat_minor": 2
}
